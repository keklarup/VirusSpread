{
 "cells": [
  {
   "cell_type": "markdown",
   "metadata": {},
   "source": [
    "Notebook to generate visuals for blog post on 11/22/2020"
   ]
  },
  {
   "cell_type": "code",
   "execution_count": null,
   "metadata": {},
   "outputs": [],
   "source": [
    "#import required libraries\n",
    "import os\n",
    "import importlib\n",
    "import numpy as np\n",
    "import matplotlib.pyplot as plt\n",
    "try:\n",
    "    importlib.reload(VS)\n",
    "except:\n",
    "    import VirusSpreadCL as VS\n",
    "try:\n",
    "    importlib.reload(VV)\n",
    "except:\n",
    "    import VirusVisuals as VV\n",
    "V = VV.visuals()\n",
    "\n",
    "import tempfile\n",
    "from datetime import datetime\n",
    "import imageio\n",
    "from matplotlib import colors"
   ]
  },
  {
   "cell_type": "code",
   "execution_count": null,
   "metadata": {},
   "outputs": [],
   "source": [
    "#dimensions for env.\n",
    "X = 86; Y = 86; \n",
    "#number of agents\n",
    "N = 1200;\n",
    "#mortality params\n",
    "capacityThresh = 1.0\n",
    "mortalityRateA = .1\n",
    "mortalityRateB = .33\n",
    "#mobility reduction:\n",
    "dist = 0.0\n",
    "#vaccine params\n",
    "vac = 0.58\n",
    "vacEff = .95\n",
    "#mask params\n",
    "mask = 0.0\n",
    "maskEff = 0.65\n",
    "#time steps agents are contagious\n",
    "sickDuration = 35\n",
    "#model initialize params\n",
    "T=250\n",
    "NstartingSick=3\n",
    "#vac = 0\n",
    "SALA, agent_statusA = VS.runModel(N, X, Y, capacityThresh, dist, vac, vacEff, \n",
    "                                sickDuration, mortalityRateA, mortalityRateB, T, NstartingSick,\n",
    "                               masked = mask, maskEff = maskEff)"
   ]
  },
  {
   "cell_type": "code",
   "execution_count": null,
   "metadata": {},
   "outputs": [],
   "source": [
    "V.agentStatusPlot(agent_statusA, T)"
   ]
  },
  {
   "cell_type": "code",
   "execution_count": null,
   "metadata": {},
   "outputs": [],
   "source": [
    "V.generateGIF(SALA, agent_statusA, 250, visualFunction='all', cmap=None, stepSkip=1, \n",
    "                    saveFolder=os.path.join(os.getcwd(), 'Visuals'),modelName='ABM Simulation with Vaccine', \n",
    "                    GIFname='WithVaccine', datestamp=True, fps = 10,\n",
    "                    hospitalThreshold = None)"
   ]
  },
  {
   "cell_type": "code",
   "execution_count": null,
   "metadata": {},
   "outputs": [],
   "source": [
    "#dimensions for env.\n",
    "X = 86; Y = 86; \n",
    "#number of agents\n",
    "N = 1200;\n",
    "#mortality params\n",
    "capacityThresh = 1.0\n",
    "mortalityRateA = .1\n",
    "mortalityRateB = .33\n",
    "#mobility reduction:\n",
    "dist = 0.0\n",
    "#vaccine params\n",
    "vac = 0.0\n",
    "vacEff = .95\n",
    "#mask params\n",
    "mask = 0.0\n",
    "maskEff = 0.65\n",
    "#time steps agents are contagious\n",
    "sickDuration = 35\n",
    "#model initialize params\n",
    "T=250\n",
    "NstartingSick=3\n",
    "#vac = 0\n",
    "SALB, agent_statusB = VS.runModel(N, X, Y, capacityThresh, dist, vac, vacEff, \n",
    "                                sickDuration, mortalityRateA, mortalityRateB, T, NstartingSick,\n",
    "                               masked = mask, maskEff = maskEff)"
   ]
  },
  {
   "cell_type": "code",
   "execution_count": null,
   "metadata": {},
   "outputs": [],
   "source": [
    "V.agentStatusPlot(agent_statusB, T)"
   ]
  },
  {
   "cell_type": "code",
   "execution_count": null,
   "metadata": {},
   "outputs": [],
   "source": [
    "V.generateGIF(SALB, agent_statusB, 250, visualFunction='all', cmap=None, stepSkip=1, \n",
    "                    saveFolder=os.path.join(os.getcwd(), 'Visuals'),modelName='ABM Simulation without Vaccine', \n",
    "                    GIFname='WithoutVaccine', datestamp=True, fps = 10,\n",
    "                    hospitalThreshold = None)"
   ]
  },
  {
   "cell_type": "markdown",
   "metadata": {},
   "source": [
    "Options to control various parameters:"
   ]
  },
  {
   "cell_type": "code",
   "execution_count": null,
   "metadata": {},
   "outputs": [],
   "source": [
    "#Baseline -- no vaccine. Not taking it seriously.\n",
    "\n",
    "#dimensions for env.\n",
    "X = 86; Y = 86; \n",
    "#number of agents\n",
    "N = 1200;\n",
    "#mortality params\n",
    "capacityThresh = 1.0\n",
    "mortalityRateA = .1\n",
    "mortalityRateB = .33\n",
    "#mobility reduction:\n",
    "dist = 0.0\n",
    "#vaccine params\n",
    "vac = 0.0\n",
    "vacEff = .95\n",
    "#mask params\n",
    "mask = 0.0\n",
    "maskEff = 0.65\n",
    "#time steps agents are contagious\n",
    "sickDuration = 35\n",
    "#model initialize params\n",
    "T=100\n",
    "NstartingSick=3\n",
    "#vac = 0\n",
    "SAL1, agent_status1 = VS.runModel(N, X, Y, capacityThresh, dist, vac, vacEff, \n",
    "                                sickDuration, mortalityRateA, mortalityRateB, T, NstartingSick,\n",
    "                               masked = mask, maskEff = maskEff)"
   ]
  },
  {
   "cell_type": "code",
   "execution_count": null,
   "metadata": {},
   "outputs": [],
   "source": [
    "V.agentStatusPlot(agent_status1, T)"
   ]
  },
  {
   "cell_type": "code",
   "execution_count": null,
   "metadata": {},
   "outputs": [],
   "source": [
    "V.agentPlot(SAL1, i=99)"
   ]
  },
  {
   "cell_type": "code",
   "execution_count": null,
   "metadata": {},
   "outputs": [],
   "source": [
    "#No vaccine. Taking it seriously.\n",
    "\n",
    "#dimensions for env.\n",
    "X = 86; Y = 86; \n",
    "#number of agents\n",
    "N = 1200;\n",
    "#mortality params\n",
    "capacityThresh = 1.0\n",
    "mortalityRateA = .1\n",
    "mortalityRateB = .33\n",
    "#mobility reduction:\n",
    "dist = 0.1\n",
    "#vaccine params\n",
    "vac = 0.0\n",
    "vacEff = .95\n",
    "#mask params\n",
    "mask = 0.5\n",
    "maskEff = 0.67\n",
    "#time steps agents are contagious\n",
    "sickDuration = 35\n",
    "#model initialize params\n",
    "T=100\n",
    "NstartingSick=3\n",
    "\n",
    "SAL2, agent_status2 = VS.runModel(N, X, Y, capacityThresh, dist, vac, vacEff, \n",
    "                                sickDuration, mortalityRateA, mortalityRateB, T, NstartingSick,\n",
    "                               masked = mask, maskEff = maskEff)"
   ]
  },
  {
   "cell_type": "code",
   "execution_count": null,
   "metadata": {},
   "outputs": [],
   "source": [
    "V.agentStatusPlot(agent_status2, T)"
   ]
  },
  {
   "cell_type": "code",
   "execution_count": null,
   "metadata": {},
   "outputs": [],
   "source": [
    "V.agentPlot(SAL2, i=99)"
   ]
  },
  {
   "cell_type": "code",
   "execution_count": null,
   "metadata": {},
   "outputs": [],
   "source": [
    "#Vaccine. Not taking it seriously.\n",
    "\n",
    "#dimensions for env.\n",
    "X = 86; Y = 86; \n",
    "#number of agents\n",
    "N = 1200;\n",
    "#mortality params\n",
    "capacityThresh = 1.0\n",
    "mortalityRateA = .1\n",
    "mortalityRateB = .33\n",
    "#mobility reduction:\n",
    "dist = 0.0\n",
    "#vaccine params\n",
    "vac = 0.2\n",
    "vacEff = .95\n",
    "#mask params\n",
    "mask = 0.0\n",
    "maskEff = 0.67\n",
    "#time steps agents are contagious\n",
    "sickDuration = 35\n",
    "#model initialize params\n",
    "T=100\n",
    "NstartingSick=3\n",
    "\n",
    "SAL3, agent_status3 = VS.runModel(N, X, Y, capacityThresh, dist, vac, vacEff, \n",
    "                                sickDuration, mortalityRateA, mortalityRateB, T, NstartingSick,\n",
    "                               masked = mask, maskEff = maskEff)"
   ]
  },
  {
   "cell_type": "code",
   "execution_count": null,
   "metadata": {},
   "outputs": [],
   "source": [
    "V.agentStatusPlot(agent_status3, T)"
   ]
  },
  {
   "cell_type": "code",
   "execution_count": null,
   "metadata": {},
   "outputs": [],
   "source": [
    "V.agentPlot(SAL3, i=99)"
   ]
  },
  {
   "cell_type": "code",
   "execution_count": null,
   "metadata": {},
   "outputs": [],
   "source": [
    "#Vaccine. Taking it seriously.\n",
    "\n",
    "#dimensions for env.\n",
    "X = 86; Y = 86; \n",
    "#number of agents\n",
    "N = 1200;\n",
    "#mortality params\n",
    "capacityThresh = 1.0\n",
    "mortalityRateA = .1\n",
    "mortalityRateB = .33\n",
    "#mobility reduction:\n",
    "dist = 0.1\n",
    "#vaccine params\n",
    "vac = 0.2\n",
    "vacEff = .95\n",
    "#mask params\n",
    "mask = 0.5\n",
    "maskEff = 0.67\n",
    "#time steps agents are contagious\n",
    "sickDuration = 35\n",
    "#model initialize params\n",
    "T=100\n",
    "NstartingSick=3\n",
    "\n",
    "SAL4, agent_status4 = VS.runModel(N, X, Y, capacityThresh, dist, vac, vacEff, \n",
    "                                sickDuration, mortalityRateA, mortalityRateB, T, NstartingSick,\n",
    "                               masked = mask, maskEff = maskEff)"
   ]
  },
  {
   "cell_type": "code",
   "execution_count": null,
   "metadata": {},
   "outputs": [],
   "source": [
    "V.agentStatusPlot(agent_status4, T)"
   ]
  },
  {
   "cell_type": "code",
   "execution_count": null,
   "metadata": {},
   "outputs": [],
   "source": [
    "V.agentPlot(SAL4, i=99)"
   ]
  },
  {
   "cell_type": "code",
   "execution_count": null,
   "metadata": {},
   "outputs": [],
   "source": [
    "help(V.agentPlot)"
   ]
  },
  {
   "cell_type": "code",
   "execution_count": null,
   "metadata": {},
   "outputs": [],
   "source": []
  },
  {
   "cell_type": "code",
   "execution_count": null,
   "metadata": {},
   "outputs": [],
   "source": [
    "I = 99\n",
    "def quadGraph(SAL1, SAL2, SAL3, SAL4, I, save = False, saveFolder = None):\n",
    "    fig, axes = plt.subplots(nrows=2, ncols=2)\n",
    "    V.agentPlot(SAL1, i = I, axs = [axes[0][0]])\n",
    "    V.agentPlot(SAL2, i = I, axs = [axes[0][1]])\n",
    "    V.agentPlot(SAL3, i = I, axs = [axes[1][0]])\n",
    "    V.agentPlot(SAL4, i = I, axs = [axes[1][1]])\n",
    "    axes[0][0].set_title('Not Taking it Seriously')\n",
    "    axes[0][1].set_title('Taking it Seriously');\n",
    "\n",
    "    for ax, ylabel in zip([axes[0][0], axes[0][1], axes[1][0], axes[1][1]], ['No Vaccine', '', \"Vaccine\", '']):\n",
    "\n",
    "        ax.axis('on')\n",
    "        ax.set_ylabel(ylabel, rotation='vertical', fontsize=14)\n",
    "        ax.set_yticklabels('')\n",
    "        ax.set_xticklabels('')\n",
    "    plt.tight_layout()\n",
    "    if save==True:\n",
    "        plt.savefig(os.path.join(os.getcwd(), saveFolder, 'step_%s.png'%(I)))"
   ]
  },
  {
   "cell_type": "code",
   "execution_count": null,
   "metadata": {},
   "outputs": [],
   "source": [
    "with tempfile.TemporaryDirectory(dir=os.getcwd()) as f:\n",
    "    for i in range(0, 100):\n",
    "        quadGraph(SAL1, SAL2, SAL3, SAL4, i, save = True, saveFolder = f)\n",
    "        plt.close()\n",
    "    print(\"frames generated. Making GIF...\")\n",
    "    images = []\n",
    "    fileNums = [int(elm.split('_')[1].split('.png')[0]) for elm in os.listdir(f) if '.png' in elm]\n",
    "    fileNums = sorted(fileNums)\n",
    "    for num in fileNums:\n",
    "        file_name = 'step_%s.png'%(num)\n",
    "        file_path = os.path.join(f, file_name)\n",
    "        images.append(imageio.imread(file_path))\n",
    "    imageio.mimsave(os.path.join(\"Visuals\",'Quad.gif'),images,fps=10)\n",
    "    print(\"GIF complete!\")"
   ]
  },
  {
   "cell_type": "code",
   "execution_count": null,
   "metadata": {},
   "outputs": [],
   "source": [
    "help(V.agentStatusPlot)"
   ]
  },
  {
   "cell_type": "code",
   "execution_count": null,
   "metadata": {},
   "outputs": [],
   "source": [
    "#V.agentStatusPlot(agent_status1, 100)\n",
    "def agentStatusPlot(agent_status, steps, ax1):\n",
    "    \"\"\"Generates various high level visuals of the progression of the\n",
    "    disease through the population. Expects \"\"\"\n",
    "\n",
    "    agent_status = agent_status[['type']]; #hotfix for updated code elsewhere\n",
    "    \n",
    "    cmap = colors.ListedColormap(['white','lightblue','lightgreen', \n",
    "                                      [elm/250 for elm in [72, 169, 171]], 'orange','red', 'black'])\n",
    "    i = agent_status.index[-1][0]+1\n",
    "    #i=steps\n",
    "    healthy=np.count_nonzero(agent_status.unstack().to_numpy() == 0,axis=1)[:i]\n",
    "    recovered=np.count_nonzero(agent_status.unstack().to_numpy() == 1,axis=1)[:i]\n",
    "    vaccinated=np.count_nonzero(agent_status.unstack().to_numpy() == 2,axis=1)[:i]\n",
    "    walkingSick=np.count_nonzero(agent_status.unstack().to_numpy() == 3,axis=1)[:i]\n",
    "    hospital=np.count_nonzero(agent_status.unstack().to_numpy() == 4,axis=1)[:i]\n",
    "    dead=np.count_nonzero(agent_status.unstack().to_numpy() == 5,axis=1)[:i]\n",
    "\n",
    "\n",
    "    ax1.bar(range(len(healthy)), dead, width=1.0, color='black', label='dead')\n",
    "    ax1.bar(range(len(healthy)), hospital, width=1.0, \n",
    "            bottom=dead, \n",
    "            color='red', label='hospitalized')\n",
    "    ax1.bar(range(len(healthy)), walkingSick, width=1.0, \n",
    "            bottom=dead+hospital, \n",
    "            color='orange', label='walking sick')\n",
    "    ax1.bar(range(len(healthy)), vaccinated, width=1.0, \n",
    "            bottom=dead+hospital+walkingSick, \n",
    "            color=[elm/250 for elm in [72, 169, 171]], label='vaccinated')\n",
    "    ax1.bar(range(len(healthy)), healthy, width=1.0,\n",
    "            bottom=dead+hospital+walkingSick+vaccinated, \n",
    "            color='lightblue', label='healthy')\n",
    "    ax1.bar(range(len(healthy)), recovered, width=1.0,\n",
    "            bottom=dead+hospital+walkingSick+vaccinated+healthy, \n",
    "            color='green', label='recovered')\n",
    "    #ax1.set_ylabel('Population', size=12);\n",
    "   # ax1.set_title('Effect of Virus on Population Over Time',size=20)\n",
    "\n",
    "    #ax1.legend(loc='center left', bbox_to_anchor=(1, 0.5))\n",
    "\n",
    "    #ax1.axvline(x=steps, color='black',alpha=.25,linewidth=7)\n"
   ]
  },
  {
   "cell_type": "code",
   "execution_count": null,
   "metadata": {},
   "outputs": [],
   "source": [
    "fig, axes = plt.subplots(nrows=2, ncols=2, figsize = [12, 6])\n",
    "agentStatusPlot(agent_status1, 99, axes[0][0])\n",
    "agentStatusPlot(agent_status3, 99, axes[1][0])\n",
    "agentStatusPlot(agent_status2, 99, axes[0][1])\n",
    "agentStatusPlot(agent_status4, 99, axes[1][1])\n",
    "\n",
    "axes[0][1].legend(loc='center left', bbox_to_anchor=(1, 0.5))\n",
    "axes[0][0].set_title('Not Taking it Seriously')\n",
    "axes[0][1].set_title('Taking it Seriously');\n",
    "for ax, ylabel in zip([axes[0][0], axes[0][1], axes[1][0], axes[1][1]], ['No Vaccine', '', \"Vaccine\", '']):\n",
    "    ax.axis('on')\n",
    "    ax.set_ylabel(ylabel, rotation='vertical', fontsize=14)\n",
    "    ax.set_yticklabels('')\n",
    "    ax.set_xticklabels('')\n",
    "plt.tight_layout()\n",
    "plt.savefig(os.path.join(\"Visuals\", \"QuadSand.png\"))"
   ]
  }
 ],
 "metadata": {
  "kernelspec": {
   "display_name": "Python 3",
   "language": "python",
   "name": "python3"
  },
  "language_info": {
   "codemirror_mode": {
    "name": "ipython",
    "version": 3
   },
   "file_extension": ".py",
   "mimetype": "text/x-python",
   "name": "python",
   "nbconvert_exporter": "python",
   "pygments_lexer": "ipython3",
   "version": "3.6.8"
  }
 },
 "nbformat": 4,
 "nbformat_minor": 2
}
